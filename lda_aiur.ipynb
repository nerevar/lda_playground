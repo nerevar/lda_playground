{
 "cells": [
  {
   "cell_type": "code",
   "execution_count": 5,
   "metadata": {
    "collapsed": false
   },
   "outputs": [
    {
     "name": "stdout",
     "output_type": "stream",
     "text": [
      "0.8.1\n"
     ]
    }
   ],
   "source": [
    "import artm\n",
    "print artm.version()"
   ]
  },
  {
   "cell_type": "code",
   "execution_count": 80,
   "metadata": {
    "collapsed": false
   },
   "outputs": [
    {
     "name": "stdout",
     "output_type": "stream",
     "text": [
      "Done\n"
     ]
    }
   ],
   "source": [
    "batch_vectorizer = artm.BatchVectorizer(data_path='lurk_parsed_full_total_sort_3plus.vv',\n",
    "                                        data_format='vowpal_wabbit',\n",
    "                                        target_folder='lurk_batches_full_3plus')\n",
    "\n",
    "print 'Done'"
   ]
  },
  {
   "cell_type": "code",
   "execution_count": 81,
   "metadata": {
    "collapsed": true
   },
   "outputs": [],
   "source": [
    "batch_vectorizer.dictionary.save_text(dictionary_path='lurk_batches_full_3plus/lurk_dictionary.txt')"
   ]
  },
  {
   "cell_type": "markdown",
   "metadata": {},
   "source": [
    "# Обучение LDA"
   ]
  },
  {
   "cell_type": "code",
   "execution_count": 82,
   "metadata": {
    "collapsed": false
   },
   "outputs": [
    {
     "name": "stdout",
     "output_type": "stream",
     "text": [
      "0.0\n",
      "0.0\n",
      "[50600.87996657025, 2424.454962189418, 729.9491102869564, 512.446585788721, 459.0184753449112, 437.6998704794825, 427.24801946049126, 421.6334465023198, 418.0529976597233, 415.3252393485439, 413.1043897562646, 411.3671989502545, 409.8640517123054, 408.5292795744897, 407.4243205216838, 406.3941112488756, 405.41887678992, 404.66157727657213, 403.9962361569887, 403.375940465323]\n"
     ]
    }
   ],
   "source": [
    "lda = artm.LDA(num_topics=1000, num_document_passes=30, dictionary=batch_vectorizer.dictionary)\n",
    "\n",
    "lda.fit_offline(batch_vectorizer=batch_vectorizer, num_collection_passes=20)\n",
    "\n",
    "print lda.sparsity_phi_last_value\n",
    "print lda.sparsity_theta_last_value\n",
    "print lda.perplexity_value\n",
    "\n",
    "# 200 [51710.749651565464, 2912.4517844033107, 1463.3352772163084, 1068.9170659403558, 940.4391144676547, 884.1208358691122, 855.6548172423146, 839.2603788026935, 828.7610683372303, 821.5051712358239]\n",
    "# 300 [51630.84984424069, 2771.2873934652525, 1158.3322936601703, 792.455869809864, 695.4067568619424, 657.0467052353292, 638.7229803614259, 628.7030068003055, 622.0987749425461, 617.1389140891057]\n",
    "# 500 [51504.93969941082, 2880.385673853591, 1089.606241698333, 721.7839106509626, 634.6241138052483, 600.9330195668217, 583.5704540795377, 573.105832796926, 566.3551174650534, 561.6759636252757]\n",
    "# 600 518.4746326073434\n",
    "# 1000 421\n",
    "# 1000 403 (20 iter, 30 docs iter)\n",
    "# 1500 372\n",
    "# 3000 328\n",
    "# 4000 324"
   ]
  },
  {
   "cell_type": "markdown",
   "metadata": {},
   "source": [
    "# Результаты, темы:"
   ]
  },
  {
   "cell_type": "code",
   "execution_count": 87,
   "metadata": {
    "collapsed": false,
    "scrolled": false
   },
   "outputs": [
    {
     "name": "stdout",
     "output_type": "stream",
     "text": [
      " Topic 0:  Topic 1:  Topic 2:  Topic 3:  Topic 4:  Topic 5:  Topic 6:  Topic 7:  Topic 8:  Topic 9:  Topic 10:  Topic 11:  Topic 12:  Topic 13:  Topic 14:  Topic 15:  Topic 16:  Topic 17:  Topic 18:  Topic 19:  Topic 20:  Topic 21:  Topic 22:  Topic 23:  Topic 24:  Topic 25:  Topic 26:  Topic 27:  Topic 28:  Topic 29:  Topic 30:  Topic 31:  Topic 32:  Topic 33:  Topic 34:  Topic 35:  Topic 36:  Topic 37:  Topic 38:  Topic 39:  Topic 40:  Topic 41:  Topic 42:  Topic 43:  Topic 44:  Topic 45:  Topic 46:  Topic 47:  Topic 48:  Topic 49:  Topic 50:  Topic 51:  Topic 52:  Topic 53:  Topic 54:  Topic 55:  Topic 56:  Topic 57:  Topic 58:  Topic 59:  Topic 60:  Topic 61:  Topic 62:  Topic 63:  Topic 64:  Topic 65:  Topic 66:  Topic 67:  Topic 68:  Topic 69:  Topic 70:  Topic 71:  Topic 72:  Topic 73:  Topic 74:  Topic 75:  Topic 76:  Topic 77:  Topic 78:  Topic 79:  Topic 80:  Topic 81:  Topic 82:  Topic 83:  Topic 84:  Topic 85:  Topic 86:  Topic 87:  Topic 88:  Topic 89:  Topic 90:  Topic 91:  Topic 92:  Topic 93:  Topic 94:  Topic 95:  Topic 96:  Topic 97:  Topic 98:  Topic 99:  Topic 100:  Topic 101:  Topic 102:  Topic 103:  Topic 104:  Topic 105:  Topic 106:  Topic 107:  Topic 108:  Topic 109:  Topic 110:  Topic 111:  Topic 112:  Topic 113:  Topic 114:  Topic 115:  Topic 116:  Topic 117:  Topic 118:  Topic 119:  Topic 120:  Topic 121:  Topic 122:  Topic 123:  Topic 124:  Topic 125:  Topic 126:  Topic 127:  Topic 128:  Topic 129:  Topic 130:  Topic 131:  Topic 132:  Topic 133:  Topic 134:  Topic 135:  Topic 136:  Topic 137:  Topic 138:  Topic 139:  Topic 140:  Topic 141:  Topic 142:  Topic 143:  Topic 144:  Topic 145:  Topic 146:  Topic 147:  Topic 148:  Topic 149:  Topic 150:  Topic 151:  Topic 152:  Topic 153:  Topic 154:  Topic 155:  Topic 156:  Topic 157:  Topic 158:  Topic 159:  Topic 160:  Topic 161:  Topic 162:  Topic 163:  Topic 164:  Topic 165:  Topic 166:  Topic 167:  Topic 168:  Topic 169:  Topic 170:  Topic 171:  Topic 172:  Topic 173:  Topic 174:  Topic 175:  Topic 176:  Topic 177:  Topic 178:  Topic 179:  Topic 180:  Topic 181:  Topic 182:  Topic 183:  Topic 184:  Topic 185:  Topic 186:  Topic 187:  Topic 188:  Topic 189:  Topic 190:  Topic 191:  Topic 192:  Topic 193:  Topic 194:  Topic 195:  Topic 196:  Topic 197:  Topic 198:  Topic 199:  Topic 200:  Topic 201:  Topic 202:  Topic 203:  Topic 204:  Topic 205:  Topic 206:  Topic 207:  Topic 208:  Topic 209:  Topic 210:  Topic 211:  Topic 212:  Topic 213:  Topic 214:  Topic 215:  Topic 216:  Topic 217:  Topic 218:  Topic 219:  Topic 220:  Topic 221:  Topic 222:  Topic 223:  Topic 224:  Topic 225:  Topic 226:  Topic 227:  Topic 228:  Topic 229:  Topic 230:  Topic 231:  Topic 232:  Topic 233:  Topic 234:  Topic 235:  Topic 236:  Topic 237:  Topic 238:  Topic 239:  Topic 240:  Topic 241:  Topic 242:  Topic 243:  Topic 244:  Topic 245:  Topic 246:  Topic 247:  Topic 248:  Topic 249:  Topic 250:  Topic 251:  Topic 252:  Topic 253:  Topic 254:  Topic 255:  Topic 256:  Topic 257:  Topic 258:  Topic 259:  Topic 260:  Topic 261:  Topic 262:  Topic 263:  Topic 264:  Topic 265:  Topic 266:  Topic 267:  Topic 268:  Topic 269:  Topic 270:  Topic 271:  Topic 272:  Topic 273:  Topic 274:  Topic 275:  Topic 276:  Topic 277:  Topic 278:  Topic 279:  Topic 280:  Topic 281:  Topic 282:  Topic 283:  Topic 284:  Topic 285:  Topic 286:  Topic 287:  Topic 288:  Topic 289:  Topic 290:  Topic 291:  Topic 292:  Topic 293:  Topic 294:  Topic 295:  Topic 296:  Topic 297:  Topic 298:  Topic 299:  Topic 300:  Topic 301:  Topic 302:  Topic 303:  Topic 304:  Topic 305:  Topic 306:  Topic 307:  Topic 308:  Topic 309:  Topic 310:  Topic 311:  Topic 312:  Topic 313:  Topic 314:  Topic 315:  Topic 316:  Topic 317:  Topic 318:  Topic 319:  Topic 320:  Topic 321:  Topic 322:  Topic 323:  Topic 324:  Topic 325:  Topic 326:  Topic 327:  Topic 328:  Topic 329:  Topic 330:  Topic 331:  Topic 332:  Topic 333:  Topic 334:  Topic 335:  Topic 336:  Topic 337:  Topic 338:  Topic 339:  Topic 340:  Topic 341:  Topic 342:  Topic 343:  Topic 344:  Topic 345:  Topic 346:  Topic 347:  Topic 348:  Topic 349:  Topic 350:  Topic 351:  Topic 352:  Topic 353:  Topic 354:  Topic 355:  Topic 356:  Topic 357:  Topic 358:  Topic 359:  Topic 360:  Topic 361:  Topic 362:  Topic 363:  Topic 364:  Topic 365:  Topic 366:  Topic 367:  Topic 368:  Topic 369:  Topic 370:  Topic 371:  Topic 372:  Topic 373:  Topic 374:  Topic 375:  Topic 376:  Topic 377:  Topic 378:  Topic 379:  Topic 380:  Topic 381:  Topic 382:  Topic 383:  Topic 384:  Topic 385:  Topic 386:  Topic 387:  Topic 388:  Topic 389:  Topic 390:  Topic 391:  Topic 392:  Topic 393:  Topic 394:  Topic 395:  Topic 396:  Topic 397:  Topic 398:  Topic 399:  Topic 400:  Topic 401:  Topic 402:  Topic 403:  Topic 404:  Topic 405:  Topic 406:  Topic 407:  Topic 408:  Topic 409:  Topic 410:  Topic 411:  Topic 412:  Topic 413:  Topic 414:  Topic 415:  Topic 416:  Topic 417:  Topic 418:  Topic 419:  Topic 420:  Topic 421:  Topic 422:  Topic 423:  Topic 424:  Topic 425:  Topic 426:  Topic 427:  Topic 428:  Topic 429:  Topic 430:  Topic 431:  Topic 432:  Topic 433:  Topic 434:  Topic 435:  Topic 436:  Topic 437:  Topic 438:  Topic 439:  Topic 440:  Topic 441:  Topic 442:  Topic 443:  Topic 444:  Topic 445:  Topic 446:  Topic 447:  Topic 448:  Topic 449:  Topic 450:  Topic 451:  Topic 452:  Topic 453:  Topic 454:  Topic 455:  Topic 456:  Topic 457:  Topic 458:  Topic 459:  Topic 460:  Topic 461:  Topic 462:  Topic 463:  Topic 464:  Topic 465:  Topic 466:  Topic 467:  Topic 468:  Topic 469:  Topic 470:  Topic 471:  Topic 472:  Topic 473:  Topic 474:  Topic 475:  Topic 476:  Topic 477:  Topic 478:  Topic 479:  Topic 480:  Topic 481:  Topic 482:  Topic 483:  Topic 484:  Topic 485:  Topic 486:  Topic 487:  Topic 488:  Topic 489:  Topic 490:  Topic 491:  Topic 492:  Topic 493:  Topic 494:  Topic 495:  Topic 496:  Topic 497:  Topic 498:  Topic 499:  Topic 500:  Topic 501:  Topic 502:  Topic 503:  Topic 504:  Topic 505:  Topic 506:  Topic 507:  Topic 508:  Topic 509:  Topic 510:  Topic 511:  Topic 512:  Topic 513:  Topic 514:  Topic 515:  Topic 516:  Topic 517:  Topic 518:  Topic 519:  Topic 520:  Topic 521:  Topic 522:  Topic 523:  Topic 524:  Topic 525:  Topic 526:  Topic 527:  Topic 528:  Topic 529:  Topic 530:  Topic 531:  Topic 532:  Topic 533:  Topic 534:  Topic 535:  Topic 536:  Topic 537:  Topic 538:  Topic 539:  Topic 540:  Topic 541:  Topic 542:  Topic 543:  Topic 544:  Topic 545:  Topic 546:  Topic 547:  Topic 548:  Topic 549:  Topic 550:  Topic 551:  Topic 552:  Topic 553:  Topic 554:  Topic 555:  Topic 556:  Topic 557:  Topic 558:  Topic 559:  Topic 560:  Topic 561:  Topic 562:  Topic 563:  Topic 564:  Topic 565:  Topic 566:  Topic 567:  Topic 568:  Topic 569:  Topic 570:  Topic 571:  Topic 572:  Topic 573:  Topic 574:  Topic 575:  Topic 576:  Topic 577:  Topic 578:  Topic 579:  Topic 580:  Topic 581:  Topic 582:  Topic 583:  Topic 584:  Topic 585:  Topic 586:  Topic 587:  Topic 588:  Topic 589:  Topic 590:  Topic 591:  Topic 592:  Topic 593:  Topic 594:  Topic 595:  Topic 596:  Topic 597:  Topic 598:  Topic 599:  Topic 600:  Topic 601:  Topic 602:  Topic 603:  Topic 604:  Topic 605:  Topic 606:  Topic 607:  Topic 608:  Topic 609:  Topic 610:  Topic 611:  Topic 612:  Topic 613:  Topic 614:  Topic 615:  Topic 616:  Topic 617:  Topic 618:  Topic 619:  Topic 620:  Topic 621:  Topic 622:  Topic 623:  Topic 624:  Topic 625:  Topic 626:  Topic 627:  Topic 628:  Topic 629:  Topic 630:  Topic 631:  Topic 632:  Topic 633:  Topic 634:  Topic 635:  Topic 636:  Topic 637:  Topic 638:  Topic 639:  Topic 640:  Topic 641:  Topic 642:  Topic 643:  Topic 644:  Topic 645:  Topic 646:  Topic 647:  Topic 648:  Topic 649:  Topic 650:  Topic 651:  Topic 652:  Topic 653:  Topic 654:  Topic 655:  Topic 656:  Topic 657:  Topic 658:  Topic 659:  Topic 660:  Topic 661:  Topic 662:  Topic 663:  Topic 664:  Topic 665:  Topic 666:  Topic 667:  Topic 668:  Topic 669:  Topic 670:  Topic 671:  Topic 672:  Topic 673:  Topic 674:  Topic 675:  Topic 676:  Topic 677:  Topic 678:  Topic 679:  Topic 680:  Topic 681:  Topic 682:  Topic 683:  Topic 684:  Topic 685:  Topic 686:  Topic 687:  Topic 688:  Topic 689:  Topic 690:  Topic 691:  Topic 692:  Topic 693:  Topic 694:  Topic 695:  Topic 696:  Topic 697:  Topic 698:  Topic 699:  Topic 700:  Topic 701:  Topic 702:  Topic 703:  Topic 704:  Topic 705:  Topic 706:  Topic 707:  Topic 708:  Topic 709:  Topic 710:  Topic 711:  Topic 712:  Topic 713:  Topic 714:  Topic 715:  Topic 716:  Topic 717:  Topic 718:  Topic 719:  Topic 720:  Topic 721:  Topic 722:  Topic 723:  Topic 724:  Topic 725:  Topic 726:  Topic 727:  Topic 728:  Topic 729:  Topic 730:  Topic 731:  Topic 732:  Topic 733:  Topic 734:  Topic 735:  Topic 736:  Topic 737:  Topic 738:  Topic 739:  Topic 740:  Topic 741:  Topic 742:  Topic 743:  Topic 744:  Topic 745:  Topic 746:  Topic 747:  Topic 748:  Topic 749:  Topic 750:  Topic 751:  Topic 752:  Topic 753:  Topic 754:  Topic 755:  Topic 756:  Topic 757:  Topic 758:  Topic 759:  Topic 760:  Topic 761:  Topic 762:  Topic 763:  Topic 764:  Topic 765:  Topic 766:  Topic 767:  Topic 768:  Topic 769:  Topic 770:  Topic 771:  Topic 772:  Topic 773:  Topic 774:  Topic 775:  Topic 776:  Topic 777:  Topic 778:  Topic 779:  Topic 780:  Topic 781:  Topic 782:  Topic 783:  Topic 784:  Topic 785:  Topic 786:  Topic 787:  Topic 788:  Topic 789:  Topic 790:  Topic 791:  Topic 792:  Topic 793:  Topic 794:  Topic 795:  Topic 796:  Topic 797:  Topic 798:  Topic 799:  Topic 800:  Topic 801:  Topic 802:  Topic 803:  Topic 804:  Topic 805:  Topic 806:  Topic 807:  Topic 808:  Topic 809:  Topic 810:  Topic 811:  Topic 812:  Topic 813:  Topic 814:  Topic 815:  Topic 816:  Topic 817:  Topic 818:  Topic 819:  Topic 820:  Topic 821:  Topic 822:  Topic 823:  Topic 824:  Topic 825:  Topic 826:  Topic 827:  Topic 828:  Topic 829:  Topic 830:  Topic 831:  Topic 832:  Topic 833:  Topic 834:  Topic 835:  Topic 836:  Topic 837:  Topic 838:  Topic 839:  Topic 840:  Topic 841:  Topic 842:  Topic 843:  Topic 844:  Topic 845:  Topic 846:  Topic 847:  Topic 848:  Topic 849:  Topic 850:  Topic 851:  Topic 852:  Topic 853:  Topic 854:  Topic 855:  Topic 856:  Topic 857:  Topic 858:  Topic 859:  Topic 860:  Topic 861:  Topic 862:  Topic 863:  Topic 864:  Topic 865:  Topic 866:  Topic 867:  Topic 868:  Topic 869:  Topic 870:  Topic 871:  Topic 872:  Topic 873:  Topic 874:  Topic 875:  Topic 876:  Topic 877:  Topic 878:  Topic 879:  Topic 880:  Topic 881:  Topic 882:  Topic 883:  Topic 884:  Topic 885:  Topic 886:  Topic 887:  Topic 888:  Topic 889:  Topic 890:  Topic 891:  Topic 892:  Topic 893:  Topic 894:  Topic 895:  Topic 896:  Topic 897:  Topic 898:  Topic 899:  Topic 900:  Topic 901:  Topic 902:  Topic 903:  Topic 904:  Topic 905:  Topic 906:  Topic 907:  Topic 908:  Topic 909:  Topic 910:  Topic 911:  Topic 912:  Topic 913:  Topic 914:  Topic 915:  Topic 916:  Topic 917:  Topic 918:  Topic 919:  Topic 920:  Topic 921:  Topic 922:  Topic 923:  Topic 924:  Topic 925:  Topic 926:  Topic 927:  Topic 928:  Topic 929:  Topic 930:  Topic 931:  Topic 932:  Topic 933:  Topic 934:  Topic 935:  Topic 936:  Topic 937:  Topic 938:  Topic 939:  Topic 940:  Topic 941:  Topic 942:  Topic 943:  Topic 944:  Topic 945:  Topic 946:  Topic 947:  Topic 948:  Topic 949:  Topic 950:  Topic 951:  Topic 952:  Topic 953:  Topic 954:  Topic 955:  Topic 956:  Topic 957:  Topic 958:  Topic 959:  Topic 960:  Topic 961:  Topic 962:  Topic 963:  Topic 964:  Topic 965:  Topic 966:  Topic 967:  Topic 968:  Topic 969:  Topic 970:  Topic 971:  Topic 972:  Topic 973:  Topic 974:  Topic 975:  Topic 976:  Topic 977:  Topic 978:  Topic 979:  Topic 980:  Topic 981:  Topic 982:  Topic 983:  Topic 984:  Topic 985:  Topic 986:  Topic 987:  Topic 988:  Topic 989:  Topic 990:  Topic 991:  Topic 992:  Topic 993:  Topic 994:  Topic 995:  Topic 996:  Topic 997:  Topic 998:  Topic 999:     игра  -  49\n",
      "   каждый  -  48\n",
      "   история  -  46\n",
      "   сказать  -  44\n",
      "   дать  -  42\n",
      "   знать  -  35\n",
      "   версия  -  34\n",
      "   литр  -  32\n",
      "   нный  -  31\n",
      "   оружие  -  31\n",
      "   известный  -  30\n",
      "   машина  -  30\n",
      "   язык  -  27\n",
      "   играть  -  27\n",
      "   работа  -  26\n",
      "   прочий  -  26\n",
      "   группа  -  25\n",
      "   автор  -  25\n",
      "   ты  -  24\n",
      "   ибо  -  24\n"
     ]
    }
   ],
   "source": [
    "import operator\n",
    "hist = {}\n",
    "\n",
    "topics = open('topics.txt', 'w')\n",
    "\n",
    "top_tokens = lda.get_top_tokens(num_tokens=10)\n",
    "for i, token_list in enumerate(top_tokens):\n",
    "    print 'Topic {}: '.format(i),\n",
    "    for t in sorted(token_list):\n",
    "        hist[t] = hist.pop(t, 0) + 1\n",
    "        topics.write(t.encode('utf-8') + ' ')\n",
    "#         print t,\n",
    "    topics.write('\\n')\n",
    "#     print '\\n'\n",
    "    \n",
    "for t in sorted(hist.items(), key=operator.itemgetter(1), reverse=True)[:20]:\n",
    "    print '  ', t[0], ' - ', t[1]\n",
    "\n",
    "topics.close()"
   ]
  },
  {
   "cell_type": "markdown",
   "metadata": {},
   "source": [
    "# Фильтрация слов"
   ]
  },
  {
   "cell_type": "code",
   "execution_count": 79,
   "metadata": {
    "collapsed": false,
    "scrolled": false
   },
   "outputs": [
    {
     "name": "stdout",
     "output_type": "stream",
     "text": [
      "Lines: 6218\n",
      "200 300 400 500 600 700 800 900 1000 1100 1200 1300 1400 1500 1600 1700 1800 1900 2000 2100 2400 2600 2700 2900 3000 3100 3200 3300 3400 3500 3600 3700 3800 3900 4000 4100 4200 4300 4400 4500 4600 4800 5000 5100 5200 5400 5700 5900 6000 6200\n"
     ]
    }
   ],
   "source": [
    "with open('lurk_parsed_full_total_sort.vv', 'r') as f:\n",
    "    lines = f.read().split('\\n')\n",
    "\n",
    "print 'Lines: {}'.format(len(lines))\n",
    "\n",
    "f = open('lurk_parsed_full_total_sort_3plus.vv', 'w')\n",
    "\n",
    "topwords = [\n",
    "'1', \n",
    "'11', \n",
    "'0', \n",
    "'00',\n",
    "'01', \n",
    "'011', \n",
    "'10',\n",
    "'это', \n",
    "'тот', \n",
    "'том', \n",
    "'год',\n",
    "'свой', \n",
    "'такой', \n",
    "'ещ', \n",
    "'самый',\n",
    "'также', \n",
    "'один', \n",
    "'весь', \n",
    "'время',\n",
    "'чо', \n",
    "'этот', \n",
    "'который', \n",
    "'наш',\n",
    "'вс', \n",
    "'человек', \n",
    "'быть', \n",
    "'мочь',\n",
    "'стать', \n",
    "'метр', \n",
    "'другой', \n",
    "'дело',\n",
    "'просто', \n",
    "'очень', \n",
    "'иметь', \n",
    "'два',\n",
    "'являться', \n",
    "'случай', \n",
    "'the', \n",
    "'часть', \n",
    "'число',\n",
    "'просто', \n",
    "'очень', \n",
    "'иметь', \n",
    "'два',\n",
    "'страна',\n",
    "'русский',\n",
    "'мир',\n",
    "'жизнь',\n",
    "'слово',\n",
    "'сабж',\n",
    "'сайт',\n",
    "'игрок',\n",
    "'статья',\n",
    "'место',\n",
    "'война',\n",
    "'советский',\n",
    "'друг',\n",
    "'день',\n",
    "'персонаж',\n",
    "'вид',\n",
    "'либо',\n",
    "'россия',\n",
    "'фильм',\n",
    "'сделать',\n",
    "'говорить',\n",
    "'город',\n",
    "'какой',\n",
    "'новый',\n",
    "'вообще',\n",
    "'делать',\n",
    "'хотя',\n",
    "]\n",
    "\n",
    "i = 0\n",
    "for line in lines:\n",
    "    parts = line.split('|')\n",
    "    if len(parts) < 2:\n",
    "        continue\n",
    "\n",
    "    words = ''\n",
    "    cnt = 0\n",
    "    for w in parts[1].split():\n",
    "        splitted = w.split(':')\n",
    "        if len(splitted) != 2:\n",
    "            continue\n",
    "        if int(splitted[1]) <= 2:\n",
    "            continue\n",
    "\n",
    "        if len(splitted[0]) < 3:\n",
    "            continue\n",
    "\n",
    "        if splitted[0] in topwords:\n",
    "            continue\n",
    "\n",
    "        cnt += 1\n",
    "        words += ' ' + w\n",
    "    i += 1\n",
    "    if cnt >= 5:\n",
    "        if i % 100 == 0:\n",
    "            print i,\n",
    "#         print parts[0], i,\n",
    "        f.write(parts[0] + ' |' + words + '\\n')\n",
    "\n",
    "f.close()"
   ]
  },
  {
   "cell_type": "code",
   "execution_count": null,
   "metadata": {
    "collapsed": true
   },
   "outputs": [],
   "source": []
  }
 ],
 "metadata": {
  "kernelspec": {
   "display_name": "Python [artm]",
   "language": "python",
   "name": "Python [artm]"
  },
  "language_info": {
   "codemirror_mode": {
    "name": "ipython",
    "version": 2
   },
   "file_extension": ".py",
   "mimetype": "text/x-python",
   "name": "python",
   "nbconvert_exporter": "python",
   "pygments_lexer": "ipython2",
   "version": "2.7.12"
  }
 },
 "nbformat": 4,
 "nbformat_minor": 0
}
