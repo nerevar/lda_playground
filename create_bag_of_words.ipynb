{
 "cells": [
  {
   "cell_type": "code",
   "execution_count": 1,
   "metadata": {
    "collapsed": false
   },
   "outputs": [
    {
     "name": "stdout",
     "output_type": "stream",
     "text": [
      "<!DOCTYPE html PUBLIC \"-//W3C//DTD XHTML 1.0 Transitional//EN\" \"http://www.w3.org/TR/xhtml1/DTD/xhtml1-transitional.dtd\"><html xmlns=\"http://www.w3.org/1999/xhtml\"><head><meta http-equiv=\"Content-Type\" content=\"text/html; charset=windows-1251\" /></head><body><H1>� ���������� ���</H1><H3 id=siteSub>�������� �� Lurkmore</H3>\r\n",
      "<DIV id=contentSub>(�������������� � <A title=���������� href=\"/index.php?title=%D0%93%D0%B0%D1%80%D0%B0%D0%BD%D1%82%D0%B8%D1%80%D1%83%D1%8E&amp;redirect=no\">����������</A>)</DIV><!-- start content -->\r\n",
      "<TABLE class=tpl-quote-tiny style=\"BORDER-TOP-STYLE: none; WIDTH: auto; BORDER-COLLAPSE: collapse; BORDER-BOTTOM-STYLE: none; BORDER-RIGHT-STYLE: none; MARGIN: 16px auto auto; BORDER-LEFT-STYLE: none; BACKGROUND-COLOR: transparent\">\r\n",
      "<TBODY>\r\n",
      "<TR>\r\n",
      "<TD style=\"FONT-SIZE: 2.5em; FONT-FAMILY: serif; WIDTH: 30px; VERTICAL-ALIGN: top; FONT-WEIGHT: bold; COLOR: silver; TEXT-ALIGN: left; PADDING-LEFT: 25px\">�</TD>\r\n",
      "<TD style=\"FONT-STYLE: italic; TEXT-ALIGN: left; DISPLAY: b\n"
     ]
    }
   ],
   "source": [
    "with open('ya_garant.html', 'r') as f:\n",
    "    html = f.read()#.decode('cp1251').encode('utf-8')\n",
    "    \n",
    "print html[:1000]"
   ]
  },
  {
   "cell_type": "code",
   "execution_count": 4,
   "metadata": {
    "collapsed": false
   },
   "outputs": [
    {
     "name": "stdout",
     "output_type": "stream",
     "text": [
      "имечания \n",
      "\n",
      "^ Одним из основных поставщиков сала с Украины для Владимира Владимировича выступает его кум Виктор Медведчук\n",
      "\n",
      "\n",
      "Источник — «http://lurkmore.co/%D0%AF_%D0%B3%D0%B0%D1%80%D0%B0%D0%BD%D1%82%D0%B8%D1%80%D1%83%D1%8E_%D1%8D%D1%82%D0%BE»\n",
      "\n",
      "Категории: Универсальные ответы | Так говорил Анонимус\n",
      "\n",
      "\n",
      "\n"
     ]
    }
   ],
   "source": [
    "from bs4 import BeautifulSoup\n",
    "\n",
    "text = BeautifulSoup(html).get_text()\n",
    "\n",
    "print text[-300:]"
   ]
  },
  {
   "cell_type": "code",
   "execution_count": 5,
   "metadata": {
    "collapsed": false,
    "scrolled": false
   },
   "outputs": [
    {
     "name": "stdout",
     "output_type": "stream",
     "text": [
      "всех gmodфагов    См  также   Инфа 100  Суки  верните Пророка в  a   Я автор статей  текстов и постов   Примечания     Одним из основных поставщиков сала с Украины для Владимира Владимировича выступает его кум Виктор Медведчук   Источник      Категории  Универсальные ответы   Так говорил Анонимус   \n"
     ]
    }
   ],
   "source": [
    "import re\n",
    "# text_cleaned = re.sub(u'(http\\:\\/\\/[^\\s]+)', ' ', text)\n",
    "# text_cleaned = re.sub(ur'^https?:\\/\\/.*[\\s]*', '', text)\n",
    "text_cleaned = re.sub(r'\\w+:\\/{2}[\\d\\w-]+(\\.[\\d\\w-]+)*(?:(?:\\/[^\\s/]*))*', '', text)\n",
    "text_cleaned = re.sub(u'[^a-zA-Zа-яА-Я0-1]', ' ', text_cleaned)\n",
    "\n",
    "print text_cleaned[-300:]"
   ]
  },
  {
   "cell_type": "code",
   "execution_count": 35,
   "metadata": {
    "collapsed": true
   },
   "outputs": [],
   "source": [
    "from pprint import pprint\n",
    "import operator\n",
    "\n",
    "def stat_n_print(words_list, tail=15):\n",
    "    hist = {}\n",
    "    for word in words_list: hist[word] = hist.pop(word, 0) + 1\n",
    "\n",
    "    print 'words len {}, uniq {}, top {}:'.format(len(words_list), len(list(set(words_list))), tail)\n",
    "    if tail > 0:\n",
    "        for t in sorted(hist.items(), key=operator.itemgetter(1))[-tail:]:\n",
    "            print '  ', t[0], ' - ', t[1]"
   ]
  },
  {
   "cell_type": "markdown",
   "metadata": {},
   "source": [
    "## words — текст, разбитый по словам"
   ]
  },
  {
   "cell_type": "code",
   "execution_count": 36,
   "metadata": {
    "collapsed": false,
    "scrolled": false
   },
   "outputs": [
    {
     "name": "stdout",
     "output_type": "stream",
     "text": [
      "words len 948, uniq 634, top 15:\n",
      "   также  -  5\n",
      "   из  -  6\n",
      "   it  -  6\n",
      "   как  -  6\n",
      "   i  -  8\n",
      "   гарантирует  -  8\n",
      "   что  -  10\n",
      "   с  -  10\n",
      "   не  -  11\n",
      "   на  -  16\n",
      "   и  -  19\n",
      "   гарантирую  -  24\n",
      "   это  -  25\n",
      "   я  -  25\n",
      "   в  -  32\n",
      "\n",
      "\n",
      "я,\n",
      "гарантирую,\n",
      "этоматериал,\n",
      "из,\n",
      "lurkmore,\n",
      "перенаправлено,\n",
      "с,\n",
      "гарантирую,\n",
      "теория,\n",
      "жизни\n"
     ]
    }
   ],
   "source": [
    "words = text_cleaned.lower().split()\n",
    "\n",
    "stat_n_print(words)\n",
    "print '\\n\\n', ',\\n'.join(words[:10])"
   ]
  },
  {
   "cell_type": "markdown",
   "metadata": {},
   "source": [
    "## words2 — очищенные от стоп слов"
   ]
  },
  {
   "cell_type": "code",
   "execution_count": 37,
   "metadata": {
    "collapsed": false
   },
   "outputs": [
    {
     "name": "stdout",
     "output_type": "stream",
     "text": [
      "words len 704, uniq 560, top 15:\n",
      "   перевод  -  3\n",
      "   анонимус  -  3\n",
      "   украины  -  3\n",
      "   you  -  3\n",
      "   см  -  3\n",
      "   примеры  -  4\n",
      "   guarantee  -  5\n",
      "   фраза  -  5\n",
      "   также  -  5\n",
      "   1  -  5\n",
      "   it  -  6\n",
      "   i  -  8\n",
      "   гарантирует  -  8\n",
      "   гарантирую  -  24\n",
      "   это  -  25\n"
     ]
    }
   ],
   "source": [
    "# https://github.com/nltk/nltk_data/blob/gh-pages/packages/corpora/stopwords.zip\n",
    "with open('russian_stopwords.txt', 'r') as f:\n",
    "    stopwords = f.read().decode('utf-8').split('\\n')\n",
    "\n",
    "words2 = [w for w in words if not w in stopwords]\n",
    "\n",
    "stat_n_print(words2)"
   ]
  },
  {
   "cell_type": "markdown",
   "metadata": {},
   "source": [
    "## words3 — нормализованные"
   ]
  },
  {
   "cell_type": "code",
   "execution_count": 42,
   "metadata": {
    "collapsed": false,
    "scrolled": false
   },
   "outputs": [
    {
     "name": "stdout",
     "output_type": "stream",
     "text": [
      "гарантировать\n",
      "words len 704, uniq 518, top 15:\n",
      "   который  -  3\n",
      "   you  -  3\n",
      "   стать  -  3\n",
      "   пример  -  4\n",
      "   сказать  -  4\n",
      "   guarantee  -  5\n",
      "   также  -  5\n",
      "   1  -  5\n",
      "   анонимуса  -  5\n",
      "   украина  -  6\n",
      "   фраза  -  6\n",
      "   it  -  6\n",
      "   i  -  8\n",
      "   это  -  25\n",
      "   гарантировать  -  36\n"
     ]
    }
   ],
   "source": [
    "import pymorphy2\n",
    "morph = pymorphy2.MorphAnalyzer()\n",
    "print morph.parse(u'гарантирует')[0].normal_form\n",
    "\n",
    "words3 = [morph.parse(w)[0].normal_form for w in words2]\n",
    "\n",
    "stat_n_print(words3)"
   ]
  },
  {
   "cell_type": "code",
   "execution_count": 157,
   "metadata": {
    "collapsed": true
   },
   "outputs": [],
   "source": [
    "import re\n",
    "import os\n",
    "import operator\n",
    "import pymorphy2\n",
    "from bs4 import BeautifulSoup\n",
    "\n",
    "def stat_n_print(words_list, top=15):\n",
    "    hist = {}\n",
    "    for word in words_list: hist[word] = hist.pop(word, 0) + 1\n",
    "\n",
    "#     print 'words len {}, uniq {}, top {}:'.format(len(words_list), len(list(set(words_list))), top)\n",
    "    if top > 0:\n",
    "        for t in sorted(hist.items(), key=operator.itemgetter(1), reverse=True)[:top]:\n",
    "            print '  ', t[0], ' - ', t[1]\n",
    "\n",
    "\n",
    "def top_vw(words_list):\n",
    "    hist = {}\n",
    "    for word in words_list: hist[word] = hist.pop(word, 0) + 1\n",
    "\n",
    "    words_count = float(len(words_list))\n",
    "    result = ''\n",
    "    for t in sorted(hist.items(), key=operator.itemgetter(1), reverse=True):\n",
    "        result += ' {0}:{1:0.0f}'.format(t[0].encode('utf-8'), (t[1] / words_count) * 10000)\n",
    "\n",
    "    return result\n",
    "            \n",
    "\n",
    "def get_stopwords():\n",
    "    with open('russian_stopwords.txt', 'r') as f:\n",
    "        stopwords = f.read().decode('utf-8').split('\\n')\n",
    "    return stopwords\n",
    "\n",
    "\n",
    "def get_words_from_html(filename, ignore_stop_words=True, normalize=True):\n",
    "    with open(filename, 'r') as f:\n",
    "        html = f.read()#.decode('cp1251').encode('utf-8')\n",
    "\n",
    "    text = BeautifulSoup(html, 'html.parser').get_text()\n",
    "\n",
    "    text_cleaned = text\n",
    "    text_cleaned = re.sub(r'\\w+:\\/{2}[\\d\\w-]+(\\.[\\d\\w-]+)*(?:(?:\\/[^\\s/]*))*', '', text_cleaned)\n",
    "    text_cleaned = re.sub(u'[^a-zA-Zа-яА-Я0-1]', ' ', text_cleaned)\n",
    "\n",
    "    words = text_cleaned.lower().split()\n",
    "\n",
    "    stat_n_print(words, 0)\n",
    "\n",
    "    if ignore_stop_words:\n",
    "        words2 = [w for w in words if not w in get_stopwords()]\n",
    "    else:\n",
    "        words2 = words\n",
    "\n",
    "    stat_n_print(words2, 0)\n",
    "\n",
    "    if normalize:\n",
    "        morph = pymorphy2.MorphAnalyzer()\n",
    "        words3 = [morph.parse(w)[0].normal_form for w in words2]\n",
    "    else:\n",
    "        words3 = words2\n",
    "\n",
    "    stat_n_print(words3, 0)\n",
    "    \n",
    "    return words3"
   ]
  },
  {
   "cell_type": "code",
   "execution_count": 81,
   "metadata": {
    "collapsed": false,
    "scrolled": false
   },
   "outputs": [
    {
     "name": "stdout",
     "output_type": "stream",
     "text": [
      "words len 948, uniq 634, top 0:\n",
      "words len 704, uniq 560, top 0:\n",
      "words len 704, uniq 518, top 0:\n",
      "words len 704, uniq 518, top 15:\n",
      "   гарантировать  -  36\n",
      "   это  -  25\n",
      "   i  -  8\n",
      "   украина  -  6\n",
      "   фраза  -  6\n",
      "   it  -  6\n",
      "   guarantee  -  5\n",
      "   также  -  5\n",
      "   1  -  5\n",
      "   анонимуса  -  5\n",
      "   пример  -  4\n",
      "   сказать  -  4\n",
      "   100  -  3\n",
      "   наш  -  3\n",
      "   указание  -  3\n",
      " гарантировать:0.05113636 это:0.03551136 i:0.01136364 украина:0.00852273 фраза:0.00852273 it:0.00852273 guarantee:0.00710227 также:0.00710227 1:0.00710227 анонимуса:0.00710227 пример:0.00568182 сказать:0.00568182 100:0.00426136 наш:0.00426136 указание:0.00426136 сало:0.00426136 автор:0.00426136 говорить:0.00426136 that:0.00426136 президент:0.00426136 перевод:0.00426136 сантиметр:0.00426136\n"
     ]
    }
   ],
   "source": [
    "filename = 'ya_garant.html'\n",
    "words = get_words_from_html(filename)\n",
    "\n",
    "stat_n_print(words)\n",
    "print top_vw(words)[:500]"
   ]
  },
  {
   "cell_type": "code",
   "execution_count": 54,
   "metadata": {
    "collapsed": false
   },
   "outputs": [
    {
     "name": "stdout",
     "output_type": "stream",
     "text": [
      "words len 432, uniq 291, top 0:\n",
      "words len 303, uniq 241, top 0:\n",
      "words len 303, uniq 219, top 0:\n",
      "words len 303, uniq 219, top 15:\n",
      "   плакат  -  3\n",
      "   показать  -  3\n",
      "   статья  -  3\n",
      "   картинка  -  3\n",
      "   фраза  -  3\n",
      "   написать  -  3\n",
      "   который  -  3\n",
      "   лётчик  -  3\n",
      "   версия  -  4\n",
      "   такой  -  4\n",
      "   1  -  4\n",
      "   умный  -  6\n",
      "   очень  -  7\n",
      "   понять  -  8\n",
      "   нихуй  -  9\n"
     ]
    }
   ],
   "source": [
    "filename = 'ya_neponyal.html'\n",
    "words = get_words_from_html(filename)\n",
    "stat_n_print(words)"
   ]
  },
  {
   "cell_type": "markdown",
   "metadata": {},
   "source": [
    "## Распарсить все htm файлы лурка и сформировать vw"
   ]
  },
  {
   "cell_type": "code",
   "execution_count": 160,
   "metadata": {
    "collapsed": false,
    "scrolled": false
   },
   "outputs": [
    {
     "name": "stdout",
     "output_type": "stream",
     "text": [
      "Files total: 6216\n",
      "File 1: My Little PonyPMV\n",
      "File 2: Юлия Тимошенко\n",
      "File 3: Незнайка на Луне\n",
      "File 4: Сурвивалист\n",
      "File 5: Пугало тян\n",
      "File 6: Фотошоп\n",
      "File 7: Телема\n",
      "File 8: Игромания\n",
      "File 9: Варг Викернес\n",
      "File 10: ВП\n",
      "File 11: Тотошка\n",
      "File 12: Раптор\n",
      "File 13: АУ\n",
      "File 14: SecuROMDENUVO\n",
      "File 15: Адамант\n",
      "File 16: СмехуечкиНе дови на меня\n",
      "File 17: Наталья Поклонская\n",
      "File 18: Робоцып\n",
      "File 19: Шашлык\n",
      "File 20: Кармодрочер\n",
      "File 21: Bo\n",
      "File 22: Терморектальный криптоанализатор\n",
      "File 23: Чайлдфри\n",
      "File 24: Д’Артаньян и три мушкетёра\n",
      "File 25: Метрофанаты\n",
      "File 26: НаёмникИстория\n",
      "File 27: Список мицголизмов\n",
      "File 28: Снежный человек\n",
      "File 29: Фристайло\n",
      "File 30: Майдан\n",
      "File 31: FTN\n",
      "File 32: СвадьбаКлассика\n",
      "File 33: Дырка для ружья\n",
      "File 34: Машинный перевод\n",
      "File 35: Это ваше\n",
      "File 36: Каламбур\n",
      "File 37: Егор Лавров\n",
      "File 38: Бомж\n",
      "File 39: Deus Ex Human Revolution\n",
      "File 40: ADSL\n",
      "File 41: Сорта говна\n",
      "File 42: Танк\n",
      "File 43: Андрей Сковородников\n",
      "File 44: Wayback\n",
      "File 45: Chrome\n",
      "File 46: Приборчик\n",
      "File 47: Шерлок Холмс и доктор Ватсон\n",
      "File 48: Мистер Бин\n",
      "File 49: Зелёный слоник\n",
      "File 50: Доброчан на Ычане\n",
      "File 51: Мотороллер\n",
      "File 52: In before\n",
      "File 53: Митрополит Токийский Даниил\n",
      "File 54: КатегорияДемотивационный постер\n",
      "File 55: Медведь\n",
      "File 56: Радиопираты\n",
      "File 57: Хеталия\n",
      "File 58: Русско японская война\n",
      "File 59: Zx\n",
      "File 60: КГАМ\n",
      "File 61: Ричард Докинз\n",
      "File 62: Хазарин\n",
      "File 63: Комьюнити\n",
      "File 64: Валарат\n",
      "File 65: ToraDora!\n",
      "File 66: СериалФэнтэзи\n",
      "File 67: Беркем аль Атоми\n",
      "File 68: QR код\n",
      "File 69: AK 47\n",
      "File 70: Дядя\n",
      "File 71: КопипастаCreepyЯкутия\n",
      "File 72: Лаборатория\n",
      "File 73: Maratochka\n",
      "File 74: Древняя Греция\n",
      "File 75: Скейтер\n",
      "File 76: Титаник.mp3\n",
      "File 77: Татары\n",
      "File 78: КТ315\n",
      "File 79: Альбац\n",
      "File 80: Мнение Гитлера\n",
      "File 81: Суржик\n",
      "File 82: Лена Хейдиз\n",
      "File 83: Кари Байрон\n",
      "File 84: Анатолий Чубайс\n",
      "File 85: Большой Тылль\n",
      "File 86: Leyla 22\n",
      "File 87: Избиение лохов\n",
      "File 88: RTFM\n",
      "File 89: Тульпа\n",
      "File 90: ru_chp\n",
      "File 91: БХКП\n",
      "File 92: Колесников\n",
      "File 93: Егор Холмогоров\n",
      "File 94: Психотронное оружие\n",
      "File 95: Вна\n",
      "File 96: OBEY\n",
      "File 97: Мастурбация\n",
      "File 98: Ты хуй\n",
      "File 99: Баг\n",
      "File 100: Friend Zone\n",
      "File 101: Постмодернизм\n",
      "File 102: Project ChanologyВ России\n",
      "File 103: Jews.mp3\n",
      "File 104: Манул\n",
      "File 105: Nintendo\n",
      "File 106: X is so X\n",
      "File 107: Оверклокер\n",
      "File 108: Патриарх\n",
      "File 109: Вампиры\n",
      "File 110: Специалисты по всему\n",
      "File 111: Мурз\n",
      "File 112: DCLXVI\n",
      "File 113: Misheard lyrics\n",
      "File 114: Черновецкий\n",
      "File 115: ШахматыRule34\n",
      "File 116: Перестроечное кино\n",
      "File 117: Дракон\n",
      "File 118: The Road\n",
      "File 119: Хромакей\n",
      "File 120: Музыкальный сленгА М\n",
      "File 121: The Internet Is for Porn\n",
      "File 122: Zadolba.li\n",
      "File 123: Качиньский\n",
      "File 124: Сьюзен Бойл\n",
      "File 125: Детская мода\n",
      "File 126: Язык падонков\n",
      "File 127: Лирика\n",
      "File 128: Джигурда\n",
      "File 129: Lurkmore.ru\n",
      "File 130: Американская готика\n",
      "File 131: Сборки Windows\n",
      "File 132: Морские пираты\n",
      "File 133: Премодерация\n",
      "File 134: Полный пока\n",
      "File 135: Не верю!\n",
      "File 136: Цезарь\n",
      "File 137: Колыма\n",
      "File 138: Party Hard\n",
      "File 139: LurkmoreАльтернативное мнение\n",
      "File 140: X COM\n",
      "File 141: Словесный понос\n",
      "File 142: Гешефт\n",
      "File 143: Экстерминатус\n",
      "File 144: Elite\n",
      "File 145: Кулхацкер\n",
      "File 146: Марио\n",
      "File 147: Таня Лаврухина\n",
      "File 148: СмехуечкиХеллоуворлдщик\n",
      "File 149: Рей Аянами\n",
      "File 150: Арбуз\n",
      "File 151: MFX1209\n",
      "File 152: Кукурузник\n",
      "File 153: Язычники\n",
      "File 154: Check you\n",
      "File 155: Горизонт завален\n",
      "File 156: Демотивационный постерГенераторы\n",
      "File 157: World of Goo\n",
      "File 158: Равка\n",
      "File 159: КопипастаЛенсук\n",
      "File 160: Ара тюнингОсновные элементы\n",
      "File 161: Вруша\n",
      "File 162: Обрезание\n",
      "File 163: Сталкер Тарковского\n",
      "File 164: Вольтрон\n",
      "File 165: Овуляшка\n",
      "File 166: Биокатализатор топлива\n",
      "File 167: Машинима\n",
      "File 168: Александр Дворкин\n",
      "File 169: Чупакабра\n",
      "File 170: My Little PonyПонивидение\n",
      "File 171: Люди с запахом могилы\n",
      "File 172: Вода\n",
      "File 173: Убью родных убью друзей\n",
      "File 174: Чёрный Властелин\n",
      "File 175: Skrillex\n",
      "File 176: Мистраль\n",
      "File 177: Доброчан\n",
      "File 178: DiabloDiablo 2\n",
      "File 179: Калашников\n",
      "File 180: Miranda\n",
      "File 181: Распечатать лицензию на Линукс\n",
      "File 182: Астрахань\n",
      "File 183: Аллан999\n",
      "File 184: Что Где Когда\n",
      "File 185: Бабка АТС\n",
      "File 186: Тёмная энергия\n",
      "File 187: Лантерн\n",
      "File 188: ПОРОШОК УХОДИ\n",
      "File 189: Риветхэд\n",
      "File 190: Перевал Дятлова\n",
      "File 191: Windows\n",
      "File 192: Бони Нем\n",
      "File 193: ЛКИ\n",
      "File 194: ru_mac\n",
      "File 195: BASKA\n",
      "File 196: Семь красных линий\n",
      "File 197: СмехуечкиПиздюль\n",
      "File 198: Asocio\n",
      "File 199: Серж Гензбур\n",
      "File 200: Окна РОСТА\n"
     ]
    }
   ],
   "source": [
    "# lurkmore http://pikabu.ru/story/arkhiv_statey_s_sayta_lurkmoreorg_4264602\n",
    "# extract chm using chmlib\n",
    "\n",
    "import glob\n",
    "import random\n",
    "files = glob.glob('./lurk_extracted/**/*.htm')\n",
    "print 'Files total: {}'.format(len(files))\n",
    "\n",
    "f = open('lurk_parsed_part200.vv', 'a')\n",
    "\n",
    "i = 0\n",
    "for filename in random.sample(files, 200):\n",
    "    i += 1\n",
    "    basename = os.path.basename(filename).replace('.htm', '')\n",
    "\n",
    "    print 'File {}: {}'.format(i, basename)\n",
    "    words = get_words_from_html(filename)\n",
    "    f.write(re.sub(u' ', '_', basename) + '|' + top_vw(words) + '\\n')\n",
    "#     print re.sub(u' ', '_', basename) + '|' + top_vw(words)[:500] + '\\n'\n",
    "\n",
    "f.close()"
   ]
  }
 ],
 "metadata": {
  "anaconda-cloud": {},
  "kernelspec": {
   "display_name": "Python [python2]",
   "language": "python",
   "name": "Python [python2]"
  },
  "language_info": {
   "codemirror_mode": {
    "name": "ipython",
    "version": 2
   },
   "file_extension": ".py",
   "mimetype": "text/x-python",
   "name": "python",
   "nbconvert_exporter": "python",
   "pygments_lexer": "ipython2",
   "version": "2.7.11"
  }
 },
 "nbformat": 4,
 "nbformat_minor": 0
}
